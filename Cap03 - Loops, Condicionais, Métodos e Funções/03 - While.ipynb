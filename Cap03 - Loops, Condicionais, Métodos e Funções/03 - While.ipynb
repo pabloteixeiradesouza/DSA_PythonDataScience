{
 "cells": [
  {
   "cell_type": "markdown",
   "id": "888d98ff",
   "metadata": {},
   "source": [
    "# While"
   ]
  },
  {
   "cell_type": "code",
   "execution_count": 1,
   "id": "c62af773",
   "metadata": {},
   "outputs": [
    {
     "name": "stdout",
     "output_type": "stream",
     "text": [
      "0\n",
      "1\n",
      "2\n",
      "3\n",
      "4\n",
      "5\n",
      "6\n",
      "7\n",
      "8\n",
      "9\n"
     ]
    }
   ],
   "source": [
    "# Usando Loop While para imnprimir vaklores de 0 a 9 \n",
    "counter = 0\n",
    "\n",
    "while counter < 10:\n",
    "    print(counter)\n",
    "    counter = counter + 1"
   ]
  },
  {
   "cell_type": "code",
   "execution_count": 2,
   "id": "085bf416",
   "metadata": {},
   "outputs": [
    {
     "name": "stdout",
     "output_type": "stream",
     "text": [
      "O Valor nesta interção de x é:  0\n",
      " X ainda é menor que 10, somando x a 1\n",
      "O Valor nesta interção de x é:  1\n",
      " X ainda é menor que 10, somando x a 1\n",
      "O Valor nesta interção de x é:  2\n",
      " X ainda é menor que 10, somando x a 1\n",
      "O Valor nesta interção de x é:  3\n",
      " X ainda é menor que 10, somando x a 1\n",
      "O Valor nesta interção de x é:  4\n",
      " X ainda é menor que 10, somando x a 1\n",
      "O Valor nesta interção de x é:  5\n",
      " X ainda é menor que 10, somando x a 1\n",
      "O Valor nesta interção de x é:  6\n",
      " X ainda é menor que 10, somando x a 1\n",
      "O Valor nesta interção de x é:  7\n",
      " X ainda é menor que 10, somando x a 1\n",
      "O Valor nesta interção de x é:  8\n",
      " X ainda é menor que 10, somando x a 1\n",
      "O Valor nesta interção de x é:  9\n",
      " X ainda é menor que 10, somando x a 1\n",
      "Loop concluído\n"
     ]
    }
   ],
   "source": [
    "# Também é possível incluir a cláusula esle para encerrar um loop while\n",
    "x = 0\n",
    "\n",
    "while x < 10:\n",
    "    print(\"O Valor nesta interção de x é: \", x)\n",
    "    print(\" X ainda é menor que 10, somando x a 1\")\n",
    "    x += 1\n",
    "else:\n",
    "    print(\"Loop concluído\")\n"
   ]
  },
  {
   "cell_type": "markdown",
   "id": "1c6a510d",
   "metadata": {},
   "source": [
    "# PAss, Break, Continue"
   ]
  },
  {
   "cell_type": "code",
   "execution_count": 3,
   "id": "6fec1291",
   "metadata": {},
   "outputs": [
    {
     "name": "stdout",
     "output_type": "stream",
     "text": [
      "0\n",
      "1\n",
      "2\n",
      "3\n"
     ]
    }
   ],
   "source": [
    "counter = 0\n",
    "\n",
    "while counter < 100:\n",
    "    if counter == 4:\n",
    "        break\n",
    "    else:\n",
    "        pass\n",
    "    print(counter)\n",
    "    counter += 1"
   ]
  },
  {
   "cell_type": "code",
   "execution_count": 5,
   "id": "97434e08",
   "metadata": {},
   "outputs": [
    {
     "name": "stdout",
     "output_type": "stream",
     "text": [
      "P\n",
      "y\n",
      "t\n",
      "o\n",
      "n\n"
     ]
    }
   ],
   "source": [
    "for verificador in \"Phyton\":\n",
    "    if verificador == \"h\":\n",
    "        continue\n",
    "    print(verificador)\n",
    "        "
   ]
  },
  {
   "cell_type": "code",
   "execution_count": 6,
   "id": "d1fdc457",
   "metadata": {},
   "outputs": [
    {
     "name": "stdout",
     "output_type": "stream",
     "text": [
      "2 é um número primo\n",
      "3 é um número primo\n",
      "5 é um número primo\n",
      "7 é um número primo\n",
      "11 é um número primo\n",
      "13 é um número primo\n",
      "17 é um número primo\n",
      "19 é um número primo\n",
      "23 é um número primo\n",
      "29 é um número primo\n"
     ]
    }
   ],
   "source": [
    "# While e For juntos\n",
    "for i in range(2,30):\n",
    "    j = 2\n",
    "    counter = 0\n",
    "    while  j < i:\n",
    "        if i % j == 0:\n",
    "            counter = 1\n",
    "            j = j + 1\n",
    "        else:\n",
    "            j = j + 1\n",
    "    if counter == 0:\n",
    "        print(str(i) + \" é um número primo\")\n",
    "        counter = 0\n",
    "    else:\n",
    "        counter = 0"
   ]
  },
  {
   "cell_type": "code",
   "execution_count": null,
   "id": "1d7d1643",
   "metadata": {},
   "outputs": [],
   "source": []
  }
 ],
 "metadata": {
  "kernelspec": {
   "display_name": "Python 3 (ipykernel)",
   "language": "python",
   "name": "python3"
  },
  "language_info": {
   "codemirror_mode": {
    "name": "ipython",
    "version": 3
   },
   "file_extension": ".py",
   "mimetype": "text/x-python",
   "name": "python",
   "nbconvert_exporter": "python",
   "pygments_lexer": "ipython3",
   "version": "3.9.12"
  }
 },
 "nbformat": 4,
 "nbformat_minor": 5
}
