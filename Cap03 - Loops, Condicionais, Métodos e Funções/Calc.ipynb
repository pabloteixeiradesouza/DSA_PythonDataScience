{
 "cells": [
  {
   "cell_type": "markdown",
   "id": "6cb5cf5e",
   "metadata": {},
   "source": [
    "## ******************* PYTHON CALCULATOR *******************"
   ]
  },
  {
   "cell_type": "code",
   "execution_count": null,
   "id": "84ddcc40",
   "metadata": {},
   "outputs": [],
   "source": [
    "print(\"Selecione o número da opçãp desejada:\\n\\n\"\n",
    "      \"1 - Soma\\n\"\n",
    "      \"2 - Subtração\\n\"\n",
    "      \"3 - Multiplicação\\n\"\n",
    "      \"4 - Divisão\")"
   ]
  },
  {
   "cell_type": "code",
   "execution_count": null,
   "id": "ed021eca",
   "metadata": {},
   "outputs": [],
   "source": [
    "opcao = int(input(\"Digite sua opção (1/2/3/4): \"))"
   ]
  },
  {
   "cell_type": "code",
   "execution_count": null,
   "id": "08e4ede8",
   "metadata": {},
   "outputs": [],
   "source": [
    "resultado = 0.0\n",
    "sinal = \"\"\n",
    "\n",
    "if (opcao != 1) and (opcao != 2) and (opcao != 3) and (opcao != 4):\n",
    "    print(\"Opção inválida\")\n",
    "else:\n",
    "    primeironumero = float(input(\"Digite o primeiro número: \"))\n",
    "    segundonumero = float(input(\"Digite o seguindo número: \"))\n",
    "    \n",
    "    if opcao == 1: \n",
    "        resultado = primeironumero + segundonumero\n",
    "        sinal = \"+\"\n",
    "    elif opcao == 2:\n",
    "        resultado = primeironumero - segundonumero\n",
    "        sinal = \"-\"\n",
    "    elif opcao == 3: \n",
    "        resultado = primeironumero * segundonumero\n",
    "        sinal = \"*\"\n",
    "    elif opcao == 4: \n",
    "        resultado = primeironumero / segundonumero  \n",
    "        sinal = \"/\"\n",
    "print(primeironumero, sinal, segundonumero, \"=\", resultado)"
   ]
  }
 ],
 "metadata": {
  "kernelspec": {
   "display_name": "Python 3 (ipykernel)",
   "language": "python",
   "name": "python3"
  },
  "language_info": {
   "codemirror_mode": {
    "name": "ipython",
    "version": 3
   },
   "file_extension": ".py",
   "mimetype": "text/x-python",
   "name": "python",
   "nbconvert_exporter": "python",
   "pygments_lexer": "ipython3",
   "version": "3.9.12"
  }
 },
 "nbformat": 4,
 "nbformat_minor": 5
}
