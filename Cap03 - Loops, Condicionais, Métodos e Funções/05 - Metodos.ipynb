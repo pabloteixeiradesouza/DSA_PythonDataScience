{
 "cells": [
  {
   "cell_type": "markdown",
   "id": "4f82f200",
   "metadata": {},
   "source": [
    "# Métodos"
   ]
  },
  {
   "cell_type": "code",
   "execution_count": 1,
   "id": "e443fd94",
   "metadata": {},
   "outputs": [],
   "source": [
    "# Criando uma lista\n",
    "lst = [100, -2, 12, 65, 0]"
   ]
  },
  {
   "cell_type": "code",
   "execution_count": 2,
   "id": "becf7179",
   "metadata": {},
   "outputs": [],
   "source": [
    "# Usando um método do objeto lista\n",
    "lst.append(10)"
   ]
  },
  {
   "cell_type": "code",
   "execution_count": 3,
   "id": "99185a58",
   "metadata": {},
   "outputs": [
    {
     "data": {
      "text/plain": [
       "[100, -2, 12, 65, 0, 10]"
      ]
     },
     "execution_count": 3,
     "metadata": {},
     "output_type": "execute_result"
    }
   ],
   "source": [
    "# imprimindo a lista\n",
    "lst"
   ]
  },
  {
   "cell_type": "code",
   "execution_count": 4,
   "id": "08a170cd",
   "metadata": {},
   "outputs": [
    {
     "data": {
      "text/plain": [
       "1"
      ]
     },
     "execution_count": 4,
     "metadata": {},
     "output_type": "execute_result"
    }
   ],
   "source": [
    "# Usando um método do objeto lista\n",
    "lst.count(10)"
   ]
  },
  {
   "cell_type": "code",
   "execution_count": 6,
   "id": "2eab364b",
   "metadata": {},
   "outputs": [
    {
     "name": "stdout",
     "output_type": "stream",
     "text": [
      "Help on method_descriptor:\n",
      "\n",
      "count(self, value, /)\n",
      "    Return number of occurrences of value.\n",
      "\n"
     ]
    }
   ],
   "source": [
    "# A função help() explica como utilizar cada método d eum objeto\n",
    "help(list.count)"
   ]
  },
  {
   "cell_type": "code",
   "execution_count": 7,
   "id": "88698fa2",
   "metadata": {},
   "outputs": [
    {
     "data": {
      "text/plain": [
       "['__add__',\n",
       " '__class__',\n",
       " '__class_getitem__',\n",
       " '__contains__',\n",
       " '__delattr__',\n",
       " '__delitem__',\n",
       " '__dir__',\n",
       " '__doc__',\n",
       " '__eq__',\n",
       " '__format__',\n",
       " '__ge__',\n",
       " '__getattribute__',\n",
       " '__getitem__',\n",
       " '__gt__',\n",
       " '__hash__',\n",
       " '__iadd__',\n",
       " '__imul__',\n",
       " '__init__',\n",
       " '__init_subclass__',\n",
       " '__iter__',\n",
       " '__le__',\n",
       " '__len__',\n",
       " '__lt__',\n",
       " '__mul__',\n",
       " '__ne__',\n",
       " '__new__',\n",
       " '__reduce__',\n",
       " '__reduce_ex__',\n",
       " '__repr__',\n",
       " '__reversed__',\n",
       " '__rmul__',\n",
       " '__setattr__',\n",
       " '__setitem__',\n",
       " '__sizeof__',\n",
       " '__str__',\n",
       " '__subclasshook__',\n",
       " 'append',\n",
       " 'clear',\n",
       " 'copy',\n",
       " 'count',\n",
       " 'extend',\n",
       " 'index',\n",
       " 'insert',\n",
       " 'pop',\n",
       " 'remove',\n",
       " 'reverse',\n",
       " 'sort']"
      ]
     },
     "execution_count": 7,
     "metadata": {},
     "output_type": "execute_result"
    }
   ],
   "source": [
    "# A função dir() mostra todos os métodos e atributios de um onjeto\n",
    "dir(lst)"
   ]
  },
  {
   "cell_type": "code",
   "execution_count": 10,
   "id": "5c64fa26",
   "metadata": {},
   "outputs": [],
   "source": [
    "a = \"Isto é uma string\""
   ]
  },
  {
   "cell_type": "code",
   "execution_count": 11,
   "id": "ce3da2a3",
   "metadata": {},
   "outputs": [
    {
     "name": "stdout",
     "output_type": "stream",
     "text": [
      "['Isto', 'é', 'uma', 'string']\n"
     ]
    }
   ],
   "source": [
    "# O método de um objeto pode ser chamado dentro de uma função, como print()\n",
    "print(a.split())"
   ]
  },
  {
   "cell_type": "code",
   "execution_count": null,
   "id": "59c2bcc9",
   "metadata": {},
   "outputs": [],
   "source": []
  }
 ],
 "metadata": {
  "kernelspec": {
   "display_name": "Python 3 (ipykernel)",
   "language": "python",
   "name": "python3"
  },
  "language_info": {
   "codemirror_mode": {
    "name": "ipython",
    "version": 3
   },
   "file_extension": ".py",
   "mimetype": "text/x-python",
   "name": "python",
   "nbconvert_exporter": "python",
   "pygments_lexer": "ipython3",
   "version": "3.9.12"
  }
 },
 "nbformat": 4,
 "nbformat_minor": 5
}
