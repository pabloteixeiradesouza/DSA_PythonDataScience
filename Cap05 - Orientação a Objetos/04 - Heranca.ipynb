{
 "cells": [
  {
   "cell_type": "markdown",
   "id": "ac1ae1fe",
   "metadata": {},
   "source": [
    "# Herança"
   ]
  },
  {
   "cell_type": "code",
   "execution_count": 7,
   "id": "4e47b442",
   "metadata": {},
   "outputs": [],
   "source": [
    "# Crisando a claee Animal - Super-Classe\n",
    "class Animal():\n",
    "    \n",
    "    def __init__(self):\n",
    "        print('Animal criado')\n",
    "        \n",
    "    def identif(self):\n",
    "        print('Animal')\n",
    "        \n",
    "    def comer(self):\n",
    "        print('Comendo')\n",
    "        "
   ]
  },
  {
   "cell_type": "code",
   "execution_count": 18,
   "id": "3cf029d2",
   "metadata": {},
   "outputs": [],
   "source": [
    "# Criando a classe Cachorro - Sub-Classe\n",
    "class Cachorro(Animal):\n",
    "    \n",
    "    def __init__(self):\n",
    "        Animal.__init__(self)\n",
    "        print('Objeto cachorro criado')\n",
    "        \n",
    "    def identif(self):\n",
    "        print('Cachorro')\n",
    "        \n",
    "    def latir(self):\n",
    "        print('Au Au')    "
   ]
  },
  {
   "cell_type": "code",
   "execution_count": 19,
   "id": "27c92115",
   "metadata": {},
   "outputs": [
    {
     "name": "stdout",
     "output_type": "stream",
     "text": [
      "Animal criado\n",
      "Objeto cachorro criado\n"
     ]
    }
   ],
   "source": [
    "# Criando um objeto (Instnaciando a classe)\n",
    "Rex = Cachorro()"
   ]
  },
  {
   "cell_type": "code",
   "execution_count": 20,
   "id": "14067aa0",
   "metadata": {},
   "outputs": [
    {
     "name": "stdout",
     "output_type": "stream",
     "text": [
      "Cachorro\n"
     ]
    }
   ],
   "source": [
    "# Executando o método da classe Cachorro (Sub-Classe)\n",
    "Rex.identif()"
   ]
  },
  {
   "cell_type": "code",
   "execution_count": 21,
   "id": "339f58bb",
   "metadata": {},
   "outputs": [
    {
     "name": "stdout",
     "output_type": "stream",
     "text": [
      "Comendo\n"
     ]
    }
   ],
   "source": [
    "# Executando o método da classe Animal (Super-Classe)\n",
    "Rex.comer()"
   ]
  },
  {
   "cell_type": "code",
   "execution_count": 22,
   "id": "c5aa5ff7",
   "metadata": {},
   "outputs": [
    {
     "name": "stdout",
     "output_type": "stream",
     "text": [
      "Au Au\n"
     ]
    }
   ],
   "source": [
    "# Executando o método da classe Cachorro (Sub-Classe)\n",
    "Rex.latir()"
   ]
  },
  {
   "cell_type": "code",
   "execution_count": null,
   "id": "f40ff958",
   "metadata": {},
   "outputs": [],
   "source": []
  }
 ],
 "metadata": {
  "kernelspec": {
   "display_name": "Python 3 (ipykernel)",
   "language": "python",
   "name": "python3"
  },
  "language_info": {
   "codemirror_mode": {
    "name": "ipython",
    "version": 3
   },
   "file_extension": ".py",
   "mimetype": "text/x-python",
   "name": "python",
   "nbconvert_exporter": "python",
   "pygments_lexer": "ipython3",
   "version": "3.9.12"
  }
 },
 "nbformat": 4,
 "nbformat_minor": 5
}
