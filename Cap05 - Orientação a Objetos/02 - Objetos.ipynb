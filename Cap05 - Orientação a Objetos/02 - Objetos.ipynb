{
 "cells": [
  {
   "cell_type": "markdown",
   "id": "787c6d38",
   "metadata": {},
   "source": [
    "# Objetos"
   ]
  },
  {
   "cell_type": "code",
   "execution_count": 1,
   "id": "0f923573",
   "metadata": {},
   "outputs": [],
   "source": [
    "# Criando uma lista\n",
    "lst_num = [\"Data\", \"Science\", \"Academy\", \"Nota\", 10, 10]"
   ]
  },
  {
   "cell_type": "code",
   "execution_count": 2,
   "id": "93b76e89",
   "metadata": {},
   "outputs": [
    {
     "data": {
      "text/plain": [
       "list"
      ]
     },
     "execution_count": 2,
     "metadata": {},
     "output_type": "execute_result"
    }
   ],
   "source": [
    "# A lista lst_num é um objeto, uma instância da classe list do Python\n",
    "type(lst_num)"
   ]
  },
  {
   "cell_type": "code",
   "execution_count": 3,
   "id": "723bbafc",
   "metadata": {},
   "outputs": [
    {
     "data": {
      "text/plain": [
       "2"
      ]
     },
     "execution_count": 3,
     "metadata": {},
     "output_type": "execute_result"
    }
   ],
   "source": [
    "lst_num.count(10)"
   ]
  },
  {
   "cell_type": "code",
   "execution_count": 4,
   "id": "659d638f",
   "metadata": {},
   "outputs": [
    {
     "name": "stdout",
     "output_type": "stream",
     "text": [
      "<class 'int'>\n",
      "<class 'list'>\n",
      "<class 'tuple'>\n",
      "<class 'dict'>\n",
      "<class 'str'>\n"
     ]
    }
   ],
   "source": [
    "# Usamos a função type para verificar o tipo de um objeto\n",
    "print(type(10))\n",
    "print(type([]))\n",
    "print(type(()))\n",
    "print(type({}))\n",
    "print(type('a'))\n",
    "\n"
   ]
  },
  {
   "cell_type": "code",
   "execution_count": 6,
   "id": "43915b6e",
   "metadata": {},
   "outputs": [
    {
     "name": "stdout",
     "output_type": "stream",
     "text": [
      "<class '__main__.Carro'>\n"
     ]
    }
   ],
   "source": [
    "# Criando um novo tuipo de objeto chamado Carro\n",
    "class Carro(object):\n",
    "    pass\n",
    "\n",
    "# Instância do Carro\n",
    "palio = Carro()\n",
    "\n",
    "print(type(palio))"
   ]
  },
  {
   "cell_type": "code",
   "execution_count": 7,
   "id": "b3a1a34e",
   "metadata": {},
   "outputs": [],
   "source": [
    "# Criando uma classe\n",
    "class Estudantes():\n",
    "    def __init__ (self, nome, idade, nota):\n",
    "        self.nome = nome\n",
    "        self.idade = idade\n",
    "        self.nota = nota\n",
    "        "
   ]
  },
  {
   "cell_type": "code",
   "execution_count": 10,
   "id": "0923d49a",
   "metadata": {},
   "outputs": [],
   "source": [
    "# Criando um objeto chamdo Estudantes1, a partir da classe Estudantes\n",
    "Estudandes1 = Estudantes('Pelé',12,9.5)"
   ]
  },
  {
   "cell_type": "code",
   "execution_count": 12,
   "id": "9535fac4",
   "metadata": {},
   "outputs": [
    {
     "data": {
      "text/plain": [
       "'Pelé'"
      ]
     },
     "execution_count": 12,
     "metadata": {},
     "output_type": "execute_result"
    }
   ],
   "source": [
    "# Atributo da classe Estudante, utilizado por cada objeto criado a partir desat classe\n",
    "Estudandes1.nome"
   ]
  },
  {
   "cell_type": "code",
   "execution_count": 13,
   "id": "93840bcd",
   "metadata": {},
   "outputs": [
    {
     "data": {
      "text/plain": [
       "12"
      ]
     },
     "execution_count": 13,
     "metadata": {},
     "output_type": "execute_result"
    }
   ],
   "source": [
    "# Atributo da classe Estudante, utilizado por cada objeto criado a partir desat classe\n",
    "Estudandes1.idade"
   ]
  },
  {
   "cell_type": "code",
   "execution_count": 14,
   "id": "b3b827bb",
   "metadata": {},
   "outputs": [
    {
     "data": {
      "text/plain": [
       "9.5"
      ]
     },
     "execution_count": 14,
     "metadata": {},
     "output_type": "execute_result"
    }
   ],
   "source": [
    "# Atributo da classe Estudante, utilizado por cada objeto criado a partir desat classe\n",
    "Estudandes1.nota"
   ]
  },
  {
   "cell_type": "code",
   "execution_count": 34,
   "id": "68648423",
   "metadata": {},
   "outputs": [],
   "source": [
    "# Criando uma classe\n",
    "class Funcionarios():\n",
    "    def __init__ (self, nome, salario):\n",
    "        self.nome = nome\n",
    "        self.salario = salario\n",
    "        \n",
    "    def listFunc(self):\n",
    "        print('O nome do funcionário é ' + self.nome + ' ' + 'e o salário é de R$' + str(self.salario))"
   ]
  },
  {
   "cell_type": "code",
   "execution_count": 35,
   "id": "939599b6",
   "metadata": {},
   "outputs": [],
   "source": [
    "# Criando um objeto chamdo Func1, a partir da classe Fubncionario\n",
    "Func1 = Funcionarios('Obama', 20000)"
   ]
  },
  {
   "cell_type": "code",
   "execution_count": 36,
   "id": "df92d2cf",
   "metadata": {},
   "outputs": [
    {
     "name": "stdout",
     "output_type": "stream",
     "text": [
      "O nome do funcionário é Obama e o salário é de R$20000\n"
     ]
    }
   ],
   "source": [
    "# Usando o Método da Classe\n",
    "Func1.listFunc()"
   ]
  },
  {
   "cell_type": "code",
   "execution_count": 37,
   "id": "4657945f",
   "metadata": {},
   "outputs": [
    {
     "name": "stdout",
     "output_type": "stream",
     "text": [
      "**** Usando Atributos ****\n"
     ]
    }
   ],
   "source": [
    "print(\"**** Usando Atributos ****\")"
   ]
  },
  {
   "cell_type": "code",
   "execution_count": 38,
   "id": "de599715",
   "metadata": {},
   "outputs": [
    {
     "data": {
      "text/plain": [
       "True"
      ]
     },
     "execution_count": 38,
     "metadata": {},
     "output_type": "execute_result"
    }
   ],
   "source": [
    "hasattr(Func1,'nome')"
   ]
  },
  {
   "cell_type": "code",
   "execution_count": 39,
   "id": "ae0d0f27",
   "metadata": {},
   "outputs": [
    {
     "data": {
      "text/plain": [
       "True"
      ]
     },
     "execution_count": 39,
     "metadata": {},
     "output_type": "execute_result"
    }
   ],
   "source": [
    "hasattr(Func1,'salario')"
   ]
  },
  {
   "cell_type": "code",
   "execution_count": 40,
   "id": "3e62ff1a",
   "metadata": {},
   "outputs": [],
   "source": [
    "setattr(Func1,'salario', 4500)"
   ]
  },
  {
   "cell_type": "code",
   "execution_count": 41,
   "id": "4ab2882c",
   "metadata": {},
   "outputs": [
    {
     "data": {
      "text/plain": [
       "True"
      ]
     },
     "execution_count": 41,
     "metadata": {},
     "output_type": "execute_result"
    }
   ],
   "source": [
    "hasattr(Func1,'salario')"
   ]
  },
  {
   "cell_type": "code",
   "execution_count": 42,
   "id": "b2873bc8",
   "metadata": {},
   "outputs": [
    {
     "data": {
      "text/plain": [
       "4500"
      ]
     },
     "execution_count": 42,
     "metadata": {},
     "output_type": "execute_result"
    }
   ],
   "source": [
    "getattr(Func1,'salario')"
   ]
  },
  {
   "cell_type": "code",
   "execution_count": 43,
   "id": "2aead9d5",
   "metadata": {},
   "outputs": [],
   "source": [
    "delattr(Func1,'salario')"
   ]
  },
  {
   "cell_type": "code",
   "execution_count": 44,
   "id": "53c85743",
   "metadata": {},
   "outputs": [
    {
     "data": {
      "text/plain": [
       "False"
      ]
     },
     "execution_count": 44,
     "metadata": {},
     "output_type": "execute_result"
    }
   ],
   "source": [
    "hasattr(Func1,'salario')"
   ]
  },
  {
   "cell_type": "code",
   "execution_count": null,
   "id": "1bf4c755",
   "metadata": {},
   "outputs": [],
   "source": []
  }
 ],
 "metadata": {
  "kernelspec": {
   "display_name": "Python 3 (ipykernel)",
   "language": "python",
   "name": "python3"
  },
  "language_info": {
   "codemirror_mode": {
    "name": "ipython",
    "version": 3
   },
   "file_extension": ".py",
   "mimetype": "text/x-python",
   "name": "python",
   "nbconvert_exporter": "python",
   "pygments_lexer": "ipython3",
   "version": "3.9.12"
  }
 },
 "nbformat": 4,
 "nbformat_minor": 5
}
