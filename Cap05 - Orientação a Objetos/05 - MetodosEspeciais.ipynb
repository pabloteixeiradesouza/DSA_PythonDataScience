{
 "cells": [
  {
   "cell_type": "markdown",
   "id": "e21b5121",
   "metadata": {},
   "source": [
    "# Métodos Especiais"
   ]
  },
  {
   "cell_type": "code",
   "execution_count": 5,
   "id": "a2faf122",
   "metadata": {},
   "outputs": [],
   "source": [
    "#Criando a classe Livro\n",
    "class Livro():\n",
    "    \n",
    "    def __init__(self, titulo, autor, paginas):\n",
    "        print('Livro criado')\n",
    "        self.titulo = titulo\n",
    "        self.autor = autor\n",
    "        self.paginas = paginas\n",
    "        \n",
    "    def __str__(self):\n",
    "        return \"Título: %s, autor: %s, Páginas: %s\" \\\n",
    "    %(self.titulo, self.autor, self.paginas)\n",
    "    \n",
    "    \n",
    "    def __len__(self):\n",
    "        return self.paginas\n",
    "    \n",
    "    def len(self):\n",
    "        return print('Páginas do livro com método comum: ', self.paginas )"
   ]
  },
  {
   "cell_type": "code",
   "execution_count": 6,
   "id": "66a1786e",
   "metadata": {},
   "outputs": [
    {
     "name": "stdout",
     "output_type": "stream",
     "text": [
      "Livro criado\n"
     ]
    }
   ],
   "source": [
    "Livro1 = Livro('Os Lusíadas', 'Luis de Camões', 8816)"
   ]
  },
  {
   "cell_type": "code",
   "execution_count": 7,
   "id": "fd991acb",
   "metadata": {},
   "outputs": [
    {
     "name": "stdout",
     "output_type": "stream",
     "text": [
      "Título: Os Lusíadas, autor: Luis de Camões, Páginas: 8816\n"
     ]
    }
   ],
   "source": [
    "# Métodos especiais\n",
    "print(Livro1)"
   ]
  },
  {
   "cell_type": "code",
   "execution_count": 8,
   "id": "57e8a908",
   "metadata": {},
   "outputs": [
    {
     "data": {
      "text/plain": [
       "'Título: Os Lusíadas, autor: Luis de Camões, Páginas: 8816'"
      ]
     },
     "execution_count": 8,
     "metadata": {},
     "output_type": "execute_result"
    }
   ],
   "source": [
    "str(Livro1)"
   ]
  },
  {
   "cell_type": "code",
   "execution_count": 9,
   "id": "97ba0606",
   "metadata": {},
   "outputs": [
    {
     "data": {
      "text/plain": [
       "8816"
      ]
     },
     "execution_count": 9,
     "metadata": {},
     "output_type": "execute_result"
    }
   ],
   "source": [
    "len(Livro1)"
   ]
  },
  {
   "cell_type": "code",
   "execution_count": 10,
   "id": "4dad4e0b",
   "metadata": {},
   "outputs": [
    {
     "name": "stdout",
     "output_type": "stream",
     "text": [
      "Páginas do livro com método comum:  8816\n"
     ]
    }
   ],
   "source": [
    "Livro1.len()"
   ]
  },
  {
   "cell_type": "code",
   "execution_count": 12,
   "id": "216bfa6a",
   "metadata": {},
   "outputs": [],
   "source": [
    "# Ao executar a função del para remover um atributo, o Python executa:\n",
    "# Livro1.__delattr__('paginas')\n",
    "del Livro1.paginas"
   ]
  },
  {
   "cell_type": "code",
   "execution_count": 13,
   "id": "0afd734a",
   "metadata": {},
   "outputs": [
    {
     "data": {
      "text/plain": [
       "False"
      ]
     },
     "execution_count": 13,
     "metadata": {},
     "output_type": "execute_result"
    }
   ],
   "source": [
    "hasattr(Livro1, 'paginas')"
   ]
  },
  {
   "cell_type": "code",
   "execution_count": null,
   "id": "16a78b99",
   "metadata": {},
   "outputs": [],
   "source": []
  }
 ],
 "metadata": {
  "kernelspec": {
   "display_name": "Python 3 (ipykernel)",
   "language": "python",
   "name": "python3"
  },
  "language_info": {
   "codemirror_mode": {
    "name": "ipython",
    "version": 3
   },
   "file_extension": ".py",
   "mimetype": "text/x-python",
   "name": "python",
   "nbconvert_exporter": "python",
   "pygments_lexer": "ipython3",
   "version": "3.9.12"
  }
 },
 "nbformat": 4,
 "nbformat_minor": 5
}
