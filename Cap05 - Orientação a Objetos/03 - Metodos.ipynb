{
 "cells": [
  {
   "cell_type": "markdown",
   "id": "dd8c716c",
   "metadata": {},
   "source": [
    "# Métodos"
   ]
  },
  {
   "cell_type": "code",
   "execution_count": 1,
   "id": "aa6c3e25",
   "metadata": {},
   "outputs": [],
   "source": [
    "# Criando uma classe chamada Circulo\n",
    "class Circulo():\n",
    "    \n",
    "    # O Valor de pi é constante\n",
    "    pi = 3.14\n",
    "    \n",
    "    # Quando  objeto desta classe for crido, este método será executado e o valor default do raio será 5.\n",
    "    def __init__(self, raio =5):\n",
    "        self.raio = raio\n",
    "        \n",
    "    # Este método calcula a área. Self utiliza os atributos do mesmo objeto\n",
    "    def area(self):\n",
    "        return(self.raio * self.raio) * Circulo.pi\n",
    "    \n",
    "    # Método para gerar um novo raio\n",
    "    def setRaio(self, novo_raio):\n",
    "        self.raio = novo_raio\n",
    "        \n",
    "    # Método para obter o raio do círculo\n",
    "    def getRaio(self):\n",
    "        return self.raio\n",
    "    "
   ]
  },
  {
   "cell_type": "code",
   "execution_count": 2,
   "id": "ac6a222f",
   "metadata": {},
   "outputs": [],
   "source": [
    "# Criando o objeto circ. Uma instãncia da classe Circulo\n",
    "circ = Circulo()"
   ]
  },
  {
   "cell_type": "code",
   "execution_count": 3,
   "id": "52fbe47d",
   "metadata": {},
   "outputs": [],
   "source": [
    "# Executando um método da classe Circulo"
   ]
  },
  {
   "cell_type": "code",
   "execution_count": 4,
   "id": "67615911",
   "metadata": {},
   "outputs": [
    {
     "data": {
      "text/plain": [
       "5"
      ]
     },
     "execution_count": 4,
     "metadata": {},
     "output_type": "execute_result"
    }
   ],
   "source": [
    "circ.getRaio()"
   ]
  },
  {
   "cell_type": "code",
   "execution_count": 9,
   "id": "041f60b4",
   "metadata": {},
   "outputs": [],
   "source": [
    "circ1 = Circulo(7)"
   ]
  },
  {
   "cell_type": "code",
   "execution_count": 10,
   "id": "8042ae09",
   "metadata": {},
   "outputs": [
    {
     "data": {
      "text/plain": [
       "7"
      ]
     },
     "execution_count": 10,
     "metadata": {},
     "output_type": "execute_result"
    }
   ],
   "source": [
    "circ1.getRaio()"
   ]
  },
  {
   "cell_type": "code",
   "execution_count": 5,
   "id": "97609e99",
   "metadata": {},
   "outputs": [
    {
     "name": "stdout",
     "output_type": "stream",
     "text": [
      " O raio é  5\n"
     ]
    }
   ],
   "source": [
    "# Imprimindo o raio\n",
    "print(' O raio é ', circ.getRaio())"
   ]
  },
  {
   "cell_type": "code",
   "execution_count": 7,
   "id": "eb2e5b81",
   "metadata": {},
   "outputs": [
    {
     "name": "stdout",
     "output_type": "stream",
     "text": [
      "A área é igual a  78.5\n"
     ]
    }
   ],
   "source": [
    "# Imprimindo a área\n",
    "print ('A área é igual a ', circ.area())"
   ]
  },
  {
   "cell_type": "code",
   "execution_count": 11,
   "id": "a661cec0",
   "metadata": {},
   "outputs": [],
   "source": [
    "# Gerando um novo valor para o raio do circulo\n",
    "circ.setRaio(3)"
   ]
  },
  {
   "cell_type": "code",
   "execution_count": 12,
   "id": "0ab16f17",
   "metadata": {},
   "outputs": [
    {
     "name": "stdout",
     "output_type": "stream",
     "text": [
      "A área é igual a  28.26\n"
     ]
    }
   ],
   "source": [
    "# Imprimindo a nova área\n",
    "print ('A área é igual a ', circ.area())"
   ]
  },
  {
   "cell_type": "code",
   "execution_count": null,
   "id": "c40b11d8",
   "metadata": {},
   "outputs": [],
   "source": []
  }
 ],
 "metadata": {
  "kernelspec": {
   "display_name": "Python 3 (ipykernel)",
   "language": "python",
   "name": "python3"
  },
  "language_info": {
   "codemirror_mode": {
    "name": "ipython",
    "version": 3
   },
   "file_extension": ".py",
   "mimetype": "text/x-python",
   "name": "python",
   "nbconvert_exporter": "python",
   "pygments_lexer": "ipython3",
   "version": "3.9.12"
  }
 },
 "nbformat": 4,
 "nbformat_minor": 5
}
