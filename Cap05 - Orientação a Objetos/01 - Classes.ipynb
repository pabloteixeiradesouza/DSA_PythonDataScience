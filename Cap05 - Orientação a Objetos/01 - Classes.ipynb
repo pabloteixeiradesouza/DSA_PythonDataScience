{
 "cells": [
  {
   "cell_type": "markdown",
   "id": "6ee556c2",
   "metadata": {},
   "source": [
    "# Classes"
   ]
  },
  {
   "cell_type": "code",
   "execution_count": 1,
   "id": "e9f3118d",
   "metadata": {},
   "outputs": [],
   "source": [
    "# Criando uma classe chamado Livro\n",
    "class Livro():\n",
    "    \n",
    "    # Este é o Métodfo que vai inicializar xcada objeto a partir desta classe\n",
    "    # O nome deste médoto é __init__\n",
    "    # (self) é uma referência a cada atributo de um objeto criado a partir desta classe\n",
    "        def __init__(self):\n",
    "        \n",
    "            # Atributos de cada objeto criado a prtir dsta classe\n",
    "            # o self indica que estes são atributos do objeto\n",
    "            self.titulo = 'O Monge e o Executivo'\n",
    "            self.isbn = 9988888\n",
    "            print('Contrutor chamado para criar um objeto desta classe')\n",
    "        \n",
    "        # Métodos são funções, que recebem como parâmetro atributos do objeto criado\n",
    "        def imprime(self):\n",
    "            print('Foi criado o livro %s e ISBN %d' %(self.titulo, self.isbn))\n",
    "            "
   ]
  },
  {
   "cell_type": "code",
   "execution_count": 2,
   "id": "a22f0214",
   "metadata": {},
   "outputs": [
    {
     "name": "stdout",
     "output_type": "stream",
     "text": [
      "Contrutor chamado para criar um objeto desta classe\n"
     ]
    }
   ],
   "source": [
    "# Criando uma instância da classe Livro\n",
    "Livro1 = Livro()"
   ]
  },
  {
   "cell_type": "code",
   "execution_count": 3,
   "id": "39d82fb7",
   "metadata": {},
   "outputs": [
    {
     "data": {
      "text/plain": [
       "__main__.Livro"
      ]
     },
     "execution_count": 3,
     "metadata": {},
     "output_type": "execute_result"
    }
   ],
   "source": [
    "# Tipo do objeto Livro1\n",
    "type(Livro1)"
   ]
  },
  {
   "cell_type": "code",
   "execution_count": 4,
   "id": "fa2eefcc",
   "metadata": {},
   "outputs": [
    {
     "data": {
      "text/plain": [
       "'O Monge e o Executivo'"
      ]
     },
     "execution_count": 4,
     "metadata": {},
     "output_type": "execute_result"
    }
   ],
   "source": [
    "# Atributo do objeto Livro1\n",
    "Livro1.titulo"
   ]
  },
  {
   "cell_type": "code",
   "execution_count": 5,
   "id": "8d4238c4",
   "metadata": {},
   "outputs": [
    {
     "name": "stdout",
     "output_type": "stream",
     "text": [
      "Foi criado o livro O Monge e o Executivo e ISBN 9988888\n"
     ]
    }
   ],
   "source": [
    "# Método do objeto Livro1\n",
    "Livro1.imprime()"
   ]
  },
  {
   "cell_type": "code",
   "execution_count": 17,
   "id": "7d2596fb",
   "metadata": {},
   "outputs": [],
   "source": [
    "# Criando a classe Livro com parâmetos no método contrutor\n",
    "class Livro():\n",
    "    \n",
    "    def __init__(self, titulo, isbn):\n",
    "        self.titulo = titulo\n",
    "        self.isbn = isbn\n",
    "        print('Construtor chamado para criar um objeto desta classe')\n",
    "        \n",
    "    def imprime(self, titulo, isbn):\n",
    "        print('Este é o livro %s e ISBN %d' %(titulo, isbn))\n",
    "        "
   ]
  },
  {
   "cell_type": "code",
   "execution_count": 18,
   "id": "4ad81bcd",
   "metadata": {},
   "outputs": [
    {
     "name": "stdout",
     "output_type": "stream",
     "text": [
      "Construtor chamado para criar um objeto desta classe\n"
     ]
    }
   ],
   "source": [
    "# Criando o objeto Livro 2 que é uma instância da classe Livro\n",
    "Livro2 = Livro('A Menina que Roubava Livros', 77886611)"
   ]
  },
  {
   "cell_type": "code",
   "execution_count": 19,
   "id": "bbec4f74",
   "metadata": {},
   "outputs": [
    {
     "data": {
      "text/plain": [
       "'A Menina que Roubava Livros'"
      ]
     },
     "execution_count": 19,
     "metadata": {},
     "output_type": "execute_result"
    }
   ],
   "source": [
    "Livro2.titulo"
   ]
  },
  {
   "cell_type": "code",
   "execution_count": 20,
   "id": "3cecd0fa",
   "metadata": {},
   "outputs": [
    {
     "name": "stdout",
     "output_type": "stream",
     "text": [
      "Este é o livro A Menina que Roubava Livros e ISBN 77886611\n"
     ]
    }
   ],
   "source": [
    "# Método do objeto Livro2\n",
    "Livro2.imprime('A Menina que Roubava Livros', 77886611)"
   ]
  },
  {
   "cell_type": "code",
   "execution_count": 24,
   "id": "7c6a3cda",
   "metadata": {},
   "outputs": [],
   "source": [
    "# Criando a classe Cachorro\n",
    "class Cachorro():\n",
    "    def __init__ (self, raca):\n",
    "        self.raca = raca\n",
    "        print ('Construtor chamado para criar um objeto desta classe')"
   ]
  },
  {
   "cell_type": "code",
   "execution_count": 25,
   "id": "0bfe3f5a",
   "metadata": {},
   "outputs": [
    {
     "name": "stdout",
     "output_type": "stream",
     "text": [
      "Construtor chamado para criar um objeto desta classe\n"
     ]
    }
   ],
   "source": [
    "# Criando um objeto a partir da classe Cachorro\n",
    "Rex = Cachorro(raca = 'Labrador')"
   ]
  },
  {
   "cell_type": "code",
   "execution_count": 26,
   "id": "4ff5586f",
   "metadata": {},
   "outputs": [
    {
     "name": "stdout",
     "output_type": "stream",
     "text": [
      "Construtor chamado para criar um objeto desta classe\n"
     ]
    }
   ],
   "source": [
    "# Criando um objeto a partir da classe Cachorro\n",
    "Golias = Cachorro(raca = 'Huskie')"
   ]
  },
  {
   "cell_type": "code",
   "execution_count": 27,
   "id": "6c7a4a61",
   "metadata": {},
   "outputs": [
    {
     "data": {
      "text/plain": [
       "'Labrador'"
      ]
     },
     "execution_count": 27,
     "metadata": {},
     "output_type": "execute_result"
    }
   ],
   "source": [
    "# Atributo da classe Cahorro, utilizado pelo objeto criado\n",
    "Rex.raca"
   ]
  },
  {
   "cell_type": "code",
   "execution_count": 28,
   "id": "40d3204e",
   "metadata": {},
   "outputs": [
    {
     "data": {
      "text/plain": [
       "'Huskie'"
      ]
     },
     "execution_count": 28,
     "metadata": {},
     "output_type": "execute_result"
    }
   ],
   "source": [
    "# Atributo da classe Cahorro, utilizado pelo objeto criado\n",
    "Golias.raca"
   ]
  },
  {
   "cell_type": "code",
   "execution_count": null,
   "id": "ebabf272",
   "metadata": {},
   "outputs": [],
   "source": []
  }
 ],
 "metadata": {
  "kernelspec": {
   "display_name": "Python 3 (ipykernel)",
   "language": "python",
   "name": "python3"
  },
  "language_info": {
   "codemirror_mode": {
    "name": "ipython",
    "version": 3
   },
   "file_extension": ".py",
   "mimetype": "text/x-python",
   "name": "python",
   "nbconvert_exporter": "python",
   "pygments_lexer": "ipython3",
   "version": "3.9.12"
  }
 },
 "nbformat": 4,
 "nbformat_minor": 5
}
