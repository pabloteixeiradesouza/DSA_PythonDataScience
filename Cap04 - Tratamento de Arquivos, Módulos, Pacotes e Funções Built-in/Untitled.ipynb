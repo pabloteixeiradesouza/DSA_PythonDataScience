{
 "cells": [
  {
   "cell_type": "code",
   "execution_count": 1,
   "id": "d5f79f39",
   "metadata": {},
   "outputs": [
    {
     "name": "stdout",
     "output_type": "stream",
     "text": [
      "Bob tem 30 anos.\n"
     ]
    }
   ],
   "source": [
    "def imprimeDados( nome, idade ):\n",
    "    print (\"%s tem %s anos.\" %(nome, idade))\n",
    "    return;\n",
    "\n",
    "imprimeDados( idade=30, nome=\"Bob\" )"
   ]
  },
  {
   "cell_type": "code",
   "execution_count": 2,
   "id": "09d90389",
   "metadata": {},
   "outputs": [
    {
     "name": "stdout",
     "output_type": "stream",
     "text": [
      "4 + 12 = 16\n"
     ]
    }
   ],
   "source": [
    "def add(a,b):\n",
    "    print (a, \"+\", b, \"=\", a + b)\n",
    "    \n",
    "add(4, 12)"
   ]
  },
  {
   "cell_type": "code",
   "execution_count": 3,
   "id": "1e851532",
   "metadata": {},
   "outputs": [
    {
     "data": {
      "text/plain": [
       "11"
      ]
     },
     "execution_count": 3,
     "metadata": {},
     "output_type": "execute_result"
    }
   ],
   "source": [
    "sum = lambda x, y:   x + y  \n",
    "sum(2,9)"
   ]
  },
  {
   "cell_type": "code",
   "execution_count": null,
   "id": "86323ffb",
   "metadata": {},
   "outputs": [],
   "source": []
  }
 ],
 "metadata": {
  "kernelspec": {
   "display_name": "Python 3 (ipykernel)",
   "language": "python",
   "name": "python3"
  },
  "language_info": {
   "codemirror_mode": {
    "name": "ipython",
    "version": 3
   },
   "file_extension": ".py",
   "mimetype": "text/x-python",
   "name": "python",
   "nbconvert_exporter": "python",
   "pygments_lexer": "ipython3",
   "version": "3.9.12"
  }
 },
 "nbformat": 4,
 "nbformat_minor": 5
}
