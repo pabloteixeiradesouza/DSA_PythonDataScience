{
 "cells": [
  {
   "cell_type": "markdown",
   "id": "856c425e",
   "metadata": {},
   "source": [
    "# Manipulação de Arquivos"
   ]
  },
  {
   "cell_type": "markdown",
   "id": "fa94eef9",
   "metadata": {},
   "source": [
    "# Manipulando arquivs TXT"
   ]
  },
  {
   "cell_type": "code",
   "execution_count": null,
   "id": "4b41ade5",
   "metadata": {},
   "outputs": [],
   "source": [
    "texto = \"Cientista de Dados pé a profissão que mais tem crescido no mundo. \\n\"\n",
    "texto = texto + \"Esses profissionais precisam se especializar em Programação, Estatística e Machile Learning. \\n\"\n",
    "texto += \"e claro, Big Data\""
   ]
  },
  {
   "cell_type": "code",
   "execution_count": null,
   "id": "df40fa0a",
   "metadata": {},
   "outputs": [],
   "source": [
    "print(texto)"
   ]
  },
  {
   "cell_type": "code",
   "execution_count": null,
   "id": "84bd0e7b",
   "metadata": {},
   "outputs": [],
   "source": [
    "# Importando o módulo os\n",
    "import os"
   ]
  },
  {
   "cell_type": "code",
   "execution_count": null,
   "id": "262c5b2f",
   "metadata": {},
   "outputs": [],
   "source": [
    "# Criando um arquivo\n",
    "arquivo = open(os.path.join(\"arquivos/cientista.txt\"), \"w\", encoding='UTF-8')"
   ]
  },
  {
   "cell_type": "code",
   "execution_count": null,
   "id": "d93be19f",
   "metadata": {},
   "outputs": [],
   "source": [
    "# Gravando os dados no arquivo\n",
    "for palavra in texto.split():\n",
    "    arquivo.write(palavra + ' ')"
   ]
  },
  {
   "cell_type": "code",
   "execution_count": null,
   "id": "ca82623e",
   "metadata": {},
   "outputs": [],
   "source": [
    "arquivo.close()"
   ]
  },
  {
   "cell_type": "code",
   "execution_count": null,
   "id": "f2757ee4",
   "metadata": {},
   "outputs": [],
   "source": [
    "# Lendo o arquivo\n",
    "arquivo = open(\"arquivos/cientista.txt\", \"r\", encoding='UTF-8')\n",
    "conteudo = arquivo.read()\n",
    "arquivo.close()\n",
    "\n",
    "print(conteudo)"
   ]
  },
  {
   "cell_type": "markdown",
   "id": "369198d0",
   "metadata": {},
   "source": [
    "# Utiklizando a expressão With"
   ]
  },
  {
   "cell_type": "code",
   "execution_count": null,
   "id": "09056785",
   "metadata": {},
   "outputs": [],
   "source": [
    "with open(\"arquivos/cientista.txt\", \"r\", encoding='UTF-8') as arquivo:\n",
    "    conteudo = arquivo.read()"
   ]
  },
  {
   "cell_type": "code",
   "execution_count": null,
   "id": "ed682e0b",
   "metadata": {},
   "outputs": [],
   "source": [
    "print(len(conteudo))"
   ]
  },
  {
   "cell_type": "code",
   "execution_count": null,
   "id": "9302bbc9",
   "metadata": {},
   "outputs": [],
   "source": [
    "with open(\"arquivos/cientista.txt\", \"w\", encoding='UTF-8') as arquivo:\n",
    "    arquivo.write(texto[:21])\n",
    "    arquivo.write(\"\\n\")\n",
    "    arquivo.write(texto[:33])"
   ]
  },
  {
   "cell_type": "code",
   "execution_count": null,
   "id": "5c2afc98",
   "metadata": {},
   "outputs": [],
   "source": [
    "# Lendo o arquivo\n",
    "arquivo = open(\"arquivos/cientista.txt\", \"r\", encoding='UTF-8')\n",
    "conteudo = arquivo.read()\n",
    "arquivo.close()\n",
    "\n",
    "print(conteudo)"
   ]
  },
  {
   "cell_type": "markdown",
   "id": "581a4a98",
   "metadata": {},
   "source": [
    "# Manipulanod arquivos CSV (comma-separated-values)"
   ]
  },
  {
   "cell_type": "code",
   "execution_count": 1,
   "id": "1ee78562",
   "metadata": {},
   "outputs": [],
   "source": [
    "# Importando o módulo csv\n",
    "import csv"
   ]
  },
  {
   "cell_type": "code",
   "execution_count": 2,
   "id": "9667773b",
   "metadata": {},
   "outputs": [],
   "source": [
    "with open(\"arquivos/numeros.csv\", \"w\", encoding='UTF-8') as arquivo:\n",
    "    writer = csv.writer(arquivo)\n",
    "    writer.writerow((\"primeira\",\"segunda\",\"terceira\"))\n",
    "    writer.writerow((55,93,76))\n",
    "    writer.writerow((62,14,86))"
   ]
  },
  {
   "cell_type": "code",
   "execution_count": 3,
   "id": "74ffdbb2",
   "metadata": {},
   "outputs": [
    {
     "name": "stdout",
     "output_type": "stream",
     "text": [
      "Número de columnas:  3\n",
      "['primeira', 'segunda', 'terceira']\n",
      "Número de columnas:  0\n",
      "[]\n",
      "Número de columnas:  3\n",
      "['55', '93', '76']\n",
      "Número de columnas:  0\n",
      "[]\n",
      "Número de columnas:  3\n",
      "['62', '14', '86']\n",
      "Número de columnas:  0\n",
      "[]\n"
     ]
    }
   ],
   "source": [
    "# Leitura dos arquivos CSV\n",
    "with open(\"arquivos/numeros.csv\", \"r\", encoding='UTF-8') as arquivo:\n",
    "    leitor = csv.reader(arquivo)\n",
    "    for x in leitor:\n",
    "        print(\"Número de columnas: \", len(x))\n",
    "        print(x)"
   ]
  },
  {
   "cell_type": "code",
   "execution_count": 4,
   "id": "d53e82db",
   "metadata": {},
   "outputs": [
    {
     "name": "stdout",
     "output_type": "stream",
     "text": [
      "[['primeira', 'segunda', 'terceira'], [], ['55', '93', '76'], [], ['62', '14', '86'], []]\n"
     ]
    }
   ],
   "source": [
    "# Gravando uma lista com dados do arquivo csv\n",
    "with open(\"arquivos/numeros.csv\", \"r\", encoding='UTF-8') as arquivo:\n",
    "    leitor = csv.reader(arquivo)\n",
    "    dados = list(leitor)\n",
    "    \n",
    "    print(dados)\n",
    "    \n"
   ]
  },
  {
   "cell_type": "code",
   "execution_count": 6,
   "id": "276e7366",
   "metadata": {},
   "outputs": [
    {
     "name": "stdout",
     "output_type": "stream",
     "text": [
      "[]\n",
      "['55', '93', '76']\n",
      "[]\n",
      "['62', '14', '86']\n",
      "[]\n"
     ]
    }
   ],
   "source": [
    "# Imprimindo a partir da segunda linha\n",
    "for linha in dados[1:]:\n",
    "    print(linha)\n",
    "    "
   ]
  },
  {
   "cell_type": "markdown",
   "id": "fa1715e2",
   "metadata": {},
   "source": [
    "# Manupilando Arquivos JSON (Java Script Object Notation)"
   ]
  },
  {
   "cell_type": "code",
   "execution_count": 7,
   "id": "7aedbae9",
   "metadata": {},
   "outputs": [],
   "source": [
    "# Criando um dicionário\n",
    "dict = {'nome': 'Guido Von Rossum',\n",
    "        'linguagem': 'Python',\n",
    "        'similar': ['C','Modula-3','Lisp'],\n",
    "        'users': 1000000}"
   ]
  },
  {
   "cell_type": "code",
   "execution_count": 8,
   "id": "f529811a",
   "metadata": {},
   "outputs": [
    {
     "name": "stdout",
     "output_type": "stream",
     "text": [
      "nome Guido Von Rossum\n",
      "linguagem Python\n",
      "similar ['C', 'Modula-3', 'Lisp']\n",
      "users 1000000\n"
     ]
    }
   ],
   "source": [
    "for k,v in dict.items():\n",
    "    print(k, v)"
   ]
  },
  {
   "cell_type": "code",
   "execution_count": 9,
   "id": "8b441df1",
   "metadata": {},
   "outputs": [],
   "source": [
    "# Importando o módulo Json\n",
    "import json"
   ]
  },
  {
   "cell_type": "code",
   "execution_count": 10,
   "id": "406d791b",
   "metadata": {},
   "outputs": [
    {
     "data": {
      "text/plain": [
       "'{\"nome\": \"Guido Von Rossum\", \"linguagem\": \"Python\", \"similar\": [\"C\", \"Modula-3\", \"Lisp\"], \"users\": 1000000}'"
      ]
     },
     "execution_count": 10,
     "metadata": {},
     "output_type": "execute_result"
    }
   ],
   "source": [
    "# Convertendo um dicionário para o objetio Json\n",
    "json.dumps(dict)"
   ]
  },
  {
   "cell_type": "code",
   "execution_count": 11,
   "id": "503e1dad",
   "metadata": {},
   "outputs": [],
   "source": [
    "# Criando um arwquivo Json\n",
    "with open(\"arquivos/dados.json\", \"w\", encoding='UTF-8') as arquivo:\n",
    "    arquivo.write(json.dumps(dict))\n"
   ]
  },
  {
   "cell_type": "code",
   "execution_count": 13,
   "id": "9b944d3f",
   "metadata": {},
   "outputs": [],
   "source": [
    "# Leitura de arquivos Json\n",
    "with open(\"arquivos/dados.json\", \"r\", encoding='UTF-8') as arquivo:\n",
    "    texto = arquivo.read()\n",
    "    data = json.loads(texto)"
   ]
  },
  {
   "cell_type": "code",
   "execution_count": 14,
   "id": "f36e7f6b",
   "metadata": {},
   "outputs": [
    {
     "name": "stdout",
     "output_type": "stream",
     "text": [
      "{'nome': 'Guido Von Rossum', 'linguagem': 'Python', 'similar': ['C', 'Modula-3', 'Lisp'], 'users': 1000000}\n"
     ]
    }
   ],
   "source": [
    "print(data)"
   ]
  },
  {
   "cell_type": "code",
   "execution_count": 15,
   "id": "6255481b",
   "metadata": {},
   "outputs": [
    {
     "name": "stdout",
     "output_type": "stream",
     "text": [
      "Guido Von Rossum\n"
     ]
    }
   ],
   "source": [
    "print(data[\"nome\"])"
   ]
  },
  {
   "cell_type": "code",
   "execution_count": 17,
   "id": "23e0bfb2",
   "metadata": {},
   "outputs": [],
   "source": [
    "# Imprimindo um arquvo Json copiado da Internet\n",
    "from urllib.request import urlopen\n",
    "response = urlopen(\"http://vimeo.com/api/v2/video/57733101.json\").read().decode('utf8')\n",
    "data = json.loads(response)[0]"
   ]
  },
  {
   "cell_type": "code",
   "execution_count": 23,
   "id": "63ab743d",
   "metadata": {},
   "outputs": [
    {
     "name": "stdout",
     "output_type": "stream",
     "text": [
      "Título:  The Good Man trailer\n",
      "URL:  https://vimeo.com/57733101\n",
      "Duração:  143\n",
      "Número de Visualizações:  6488\n"
     ]
    }
   ],
   "source": [
    "print(\"Título: \", data[\"title\"])\n",
    "print(\"URL: \", data[\"url\"])\n",
    "print(\"Duração: \", data[\"duration\"])\n",
    "print(\"Número de Visualizações: \", data[\"stats_number_of_plays\"])"
   ]
  },
  {
   "cell_type": "code",
   "execution_count": 24,
   "id": "ff9c4066",
   "metadata": {},
   "outputs": [],
   "source": [
    "#Copiando o conteúde de um arquivo para o outro\n",
    "import os\n",
    "arquivo_fonte = \"arquivos/dados.json\"\n",
    "arquivo_destino = \"arquivos/jason_data.txt\""
   ]
  },
  {
   "cell_type": "code",
   "execution_count": 25,
   "id": "bdd84ce5",
   "metadata": {},
   "outputs": [],
   "source": [
    "# Método 1\n",
    "with open(arquivo_fonte, \"r\", encoding='UTF-8') as infile:\n",
    "    text = infile.read()\n",
    "    with open(arquivo_destino, \"w\", encoding='UTF-8') as outfile:\n",
    "        outfile.write(text)"
   ]
  },
  {
   "cell_type": "code",
   "execution_count": 27,
   "id": "1ff40aea",
   "metadata": {},
   "outputs": [
    {
     "data": {
      "text/plain": [
       "107"
      ]
     },
     "execution_count": 27,
     "metadata": {},
     "output_type": "execute_result"
    }
   ],
   "source": [
    "# Método 2\n",
    "open(arquivo_destino, \"w\").write(open(arquivo_fonte, \"r\").read())"
   ]
  },
  {
   "cell_type": "code",
   "execution_count": 29,
   "id": "ae6c16f9",
   "metadata": {
    "scrolled": true
   },
   "outputs": [],
   "source": [
    "# Leitura de arquivos Json\n",
    "with open(\"arquivos/jason_data.txt\", \"r\", encoding='UTF-8') as arquivo:\n",
    "    texto = arquivo.read()\n",
    "    data = json.loads(texto)"
   ]
  },
  {
   "cell_type": "code",
   "execution_count": 30,
   "id": "5ca3afd2",
   "metadata": {},
   "outputs": [
    {
     "name": "stdout",
     "output_type": "stream",
     "text": [
      "{'nome': 'Guido Von Rossum', 'linguagem': 'Python', 'similar': ['C', 'Modula-3', 'Lisp'], 'users': 1000000}\n"
     ]
    }
   ],
   "source": [
    "print(data)"
   ]
  },
  {
   "cell_type": "code",
   "execution_count": null,
   "id": "e4203fac",
   "metadata": {},
   "outputs": [],
   "source": []
  }
 ],
 "metadata": {
  "kernelspec": {
   "display_name": "Python 3 (ipykernel)",
   "language": "python",
   "name": "python3"
  },
  "language_info": {
   "codemirror_mode": {
    "name": "ipython",
    "version": 3
   },
   "file_extension": ".py",
   "mimetype": "text/x-python",
   "name": "python",
   "nbconvert_exporter": "python",
   "pygments_lexer": "ipython3",
   "version": "3.9.12"
  }
 },
 "nbformat": 4,
 "nbformat_minor": 5
}
