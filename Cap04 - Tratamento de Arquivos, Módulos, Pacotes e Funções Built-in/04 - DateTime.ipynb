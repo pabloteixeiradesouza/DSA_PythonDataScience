{
 "cells": [
  {
   "cell_type": "markdown",
   "id": "5c870c35",
   "metadata": {},
   "source": [
    "# DateTime"
   ]
  },
  {
   "cell_type": "code",
   "execution_count": 1,
   "id": "201d4ba9",
   "metadata": {},
   "outputs": [],
   "source": [
    "import datetime"
   ]
  },
  {
   "cell_type": "code",
   "execution_count": 2,
   "id": "0b0c0ca4",
   "metadata": {},
   "outputs": [],
   "source": [
    "agora = datetime.datetime.now()"
   ]
  },
  {
   "cell_type": "code",
   "execution_count": 3,
   "id": "49f89bbb",
   "metadata": {},
   "outputs": [
    {
     "data": {
      "text/plain": [
       "datetime.datetime(2022, 9, 17, 12, 9, 39, 70789)"
      ]
     },
     "execution_count": 3,
     "metadata": {},
     "output_type": "execute_result"
    }
   ],
   "source": [
    "agora"
   ]
  },
  {
   "cell_type": "code",
   "execution_count": 4,
   "id": "92dd3fb2",
   "metadata": {},
   "outputs": [],
   "source": [
    "t = datetime.time(7,43,28)"
   ]
  },
  {
   "cell_type": "code",
   "execution_count": 5,
   "id": "006e0a52",
   "metadata": {},
   "outputs": [
    {
     "name": "stdout",
     "output_type": "stream",
     "text": [
      "07:43:28\n"
     ]
    }
   ],
   "source": [
    "print(t)"
   ]
  },
  {
   "cell_type": "code",
   "execution_count": 6,
   "id": "89535a65",
   "metadata": {},
   "outputs": [
    {
     "name": "stdout",
     "output_type": "stream",
     "text": [
      "Hora:  7\n",
      "Minuto:  43\n",
      "Segundo:  28\n",
      "Milissegundo:  0\n"
     ]
    }
   ],
   "source": [
    "print(\"Hora: \", t.hour)\n",
    "print(\"Minuto: \", t.minute)\n",
    "print(\"Segundo: \", t.second)\n",
    "print(\"Milissegundo: \", t.microsecond)"
   ]
  },
  {
   "cell_type": "code",
   "execution_count": 8,
   "id": "72670627",
   "metadata": {},
   "outputs": [
    {
     "name": "stdout",
     "output_type": "stream",
     "text": [
      "00:00:00\n"
     ]
    }
   ],
   "source": [
    "print(datetime.time.min)"
   ]
  },
  {
   "cell_type": "code",
   "execution_count": 9,
   "id": "1e26f88c",
   "metadata": {},
   "outputs": [],
   "source": [
    "hoje = datetime.date.today()"
   ]
  },
  {
   "cell_type": "code",
   "execution_count": 13,
   "id": "6a01b2e5",
   "metadata": {},
   "outputs": [
    {
     "name": "stdout",
     "output_type": "stream",
     "text": [
      "2022-09-17\n",
      "ctime:  Sat Sep 17 00:00:00 2022\n",
      "Ano:  2022\n",
      "Mês:  9\n",
      "Dia:  17\n"
     ]
    }
   ],
   "source": [
    "print(hoje)\n",
    "print(\"ctime: \", hoje.ctime())\n",
    "print(\"Ano: \", hoje.year)\n",
    "print(\"Mês: \", hoje.month)\n",
    "print(\"Dia: \", hoje.day)"
   ]
  },
  {
   "cell_type": "code",
   "execution_count": 18,
   "id": "c2c6f753",
   "metadata": {},
   "outputs": [
    {
     "name": "stdout",
     "output_type": "stream",
     "text": [
      "d1:  2015-04-28\n"
     ]
    }
   ],
   "source": [
    "d1 = datetime.date(2015,4,28)\n",
    "print(\"d1: \", d1)"
   ]
  },
  {
   "cell_type": "code",
   "execution_count": 19,
   "id": "024dbb8c",
   "metadata": {},
   "outputs": [
    {
     "name": "stdout",
     "output_type": "stream",
     "text": [
      "d2:  2016-04-28\n"
     ]
    }
   ],
   "source": [
    "d2 = d1.replace(year=2016)\n",
    "print(\"d2: \", d2)"
   ]
  },
  {
   "cell_type": "code",
   "execution_count": 20,
   "id": "df0269dd",
   "metadata": {},
   "outputs": [
    {
     "data": {
      "text/plain": [
       "datetime.timedelta(days=366)"
      ]
     },
     "execution_count": 20,
     "metadata": {},
     "output_type": "execute_result"
    }
   ],
   "source": [
    "# Diferença entre duas datas\n",
    "d2 - d1"
   ]
  },
  {
   "cell_type": "code",
   "execution_count": null,
   "id": "050db98a",
   "metadata": {},
   "outputs": [],
   "source": []
  }
 ],
 "metadata": {
  "kernelspec": {
   "display_name": "Python 3 (ipykernel)",
   "language": "python",
   "name": "python3"
  },
  "language_info": {
   "codemirror_mode": {
    "name": "ipython",
    "version": 3
   },
   "file_extension": ".py",
   "mimetype": "text/x-python",
   "name": "python",
   "nbconvert_exporter": "python",
   "pygments_lexer": "ipython3",
   "version": "3.9.12"
  }
 },
 "nbformat": 4,
 "nbformat_minor": 5
}
