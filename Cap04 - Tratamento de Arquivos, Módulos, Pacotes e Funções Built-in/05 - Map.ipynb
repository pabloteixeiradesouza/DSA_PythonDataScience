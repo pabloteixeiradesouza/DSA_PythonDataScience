{
 "cells": [
  {
   "cell_type": "markdown",
   "id": "b4aa5b81",
   "metadata": {},
   "source": [
    "# MAP"
   ]
  },
  {
   "cell_type": "code",
   "execution_count": 1,
   "id": "ff0bc755",
   "metadata": {},
   "outputs": [],
   "source": [
    "# Criando 2 funções\n",
    "\n",
    "# Função 1 - Recebe uma temperatura como parãmetro e retorna a temperatura em Fahrenheit\n",
    "def fahrenheit(T):\n",
    "    return ((float(9)/5) * T + 32)\n",
    "\n",
    "# Função 2 - Recebe uma temperatura como parãmetro e retorna a temperatura em Celsius\n",
    "\n",
    "def Celsius(T):\n",
    "    return (float(5)/9) * (T - 32)"
   ]
  },
  {
   "cell_type": "code",
   "execution_count": 2,
   "id": "71796811",
   "metadata": {},
   "outputs": [],
   "source": [
    "# Criando uma lista\n",
    "temperaturas =[0,22.5,40,100]"
   ]
  },
  {
   "cell_type": "code",
   "execution_count": 3,
   "id": "45536dc1",
   "metadata": {},
   "outputs": [
    {
     "data": {
      "text/plain": [
       "<map at 0x186e9df6a60>"
      ]
     },
     "execution_count": 3,
     "metadata": {},
     "output_type": "execute_result"
    }
   ],
   "source": [
    "# Aplicando a função a cada elemento da lista de temperaturas.\n",
    "# Em Python 3, a funçãoi Map() retornará um interator\n",
    "map(fahrenheit,temperaturas)"
   ]
  },
  {
   "cell_type": "code",
   "execution_count": 4,
   "id": "cacf2112",
   "metadata": {},
   "outputs": [
    {
     "data": {
      "text/plain": [
       "[32.0, 72.5, 104.0, 212.0]"
      ]
     },
     "execution_count": 4,
     "metadata": {},
     "output_type": "execute_result"
    }
   ],
   "source": [
    "# Funçãoi Map() retornando a lista de temperarturas convertidas em Fahreheit\n",
    "list(map(fahrenheit,temperaturas))"
   ]
  },
  {
   "cell_type": "code",
   "execution_count": 5,
   "id": "f6b399c2",
   "metadata": {},
   "outputs": [
    {
     "name": "stdout",
     "output_type": "stream",
     "text": [
      "32.0\n",
      "72.5\n",
      "104.0\n",
      "212.0\n"
     ]
    }
   ],
   "source": [
    "# Usando um loop para imprimir o resultado da função map()\n",
    "for temp in map(fahrenheit,temperaturas):\n",
    "    print(temp)"
   ]
  },
  {
   "cell_type": "code",
   "execution_count": 10,
   "id": "156d8d87",
   "metadata": {},
   "outputs": [
    {
     "data": {
      "text/plain": [
       "<map at 0x186e9de1670>"
      ]
     },
     "execution_count": 10,
     "metadata": {},
     "output_type": "execute_result"
    }
   ],
   "source": [
    "# Convertendo para Celsius\n",
    "map(Celsius,temperaturas)"
   ]
  },
  {
   "cell_type": "code",
   "execution_count": 11,
   "id": "2c66eb21",
   "metadata": {},
   "outputs": [
    {
     "data": {
      "text/plain": [
       "[-17.77777777777778, -5.277777777777778, 4.444444444444445, 37.77777777777778]"
      ]
     },
     "execution_count": 11,
     "metadata": {},
     "output_type": "execute_result"
    }
   ],
   "source": [
    "list(map(Celsius,temperaturas))"
   ]
  },
  {
   "cell_type": "code",
   "execution_count": 8,
   "id": "d66c50fe",
   "metadata": {},
   "outputs": [
    {
     "data": {
      "text/plain": [
       "<map at 0x186e9df6850>"
      ]
     },
     "execution_count": 8,
     "metadata": {},
     "output_type": "execute_result"
    }
   ],
   "source": [
    "# Usando Lambda\n",
    "map(lambda x:(5.0/9) * (x-32),temperaturas)"
   ]
  },
  {
   "cell_type": "code",
   "execution_count": 9,
   "id": "d81fe651",
   "metadata": {},
   "outputs": [
    {
     "data": {
      "text/plain": [
       "[-17.77777777777778, -5.277777777777778, 4.444444444444445, 37.77777777777778]"
      ]
     },
     "execution_count": 9,
     "metadata": {},
     "output_type": "execute_result"
    }
   ],
   "source": [
    "list(map(lambda x:(5.0/9) * (x-32),temperaturas))"
   ]
  },
  {
   "cell_type": "code",
   "execution_count": 12,
   "id": "6175e4e1",
   "metadata": {},
   "outputs": [],
   "source": [
    "# Somando os elementos de 2 listas\n",
    "a = [1,2,3,4]\n",
    "b = [5,6,7,8]\n",
    "c = [9,10,11,12]"
   ]
  },
  {
   "cell_type": "code",
   "execution_count": 14,
   "id": "2b82dd6c",
   "metadata": {},
   "outputs": [
    {
     "data": {
      "text/plain": [
       "[15, 18, 21, 24]"
      ]
     },
     "execution_count": 14,
     "metadata": {},
     "output_type": "execute_result"
    }
   ],
   "source": [
    "list(map(lambda x,y,z: x+y+z, a,b,c))"
   ]
  },
  {
   "cell_type": "code",
   "execution_count": null,
   "id": "52530faf",
   "metadata": {},
   "outputs": [],
   "source": []
  }
 ],
 "metadata": {
  "kernelspec": {
   "display_name": "Python 3 (ipykernel)",
   "language": "python",
   "name": "python3"
  },
  "language_info": {
   "codemirror_mode": {
    "name": "ipython",
    "version": 3
   },
   "file_extension": ".py",
   "mimetype": "text/x-python",
   "name": "python",
   "nbconvert_exporter": "python",
   "pygments_lexer": "ipython3",
   "version": "3.9.12"
  }
 },
 "nbformat": 4,
 "nbformat_minor": 5
}
